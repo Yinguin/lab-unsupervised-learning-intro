{
 "cells": [
  {
   "cell_type": "code",
   "execution_count": null,
   "metadata": {},
   "outputs": [],
   "source": [
    "import pandas as pd\n",
    "import numpy as np\n",
    "import matplotlib.pyplot as plt\n",
    "import requests\n",
    "from bs4 import BeautifulSoup\n",
    "import spotipy\n",
    "from spotipy.oauth2 import SpotifyClientCredentials\n",
    "from sklearn.cluster import KMeans\n",
    "from sklearn.preprocessing import StandardScaler\n",
    "from sklearn.metrics import pairwise_distances_argmin_min\n",
    "from yellowbrick.cluster import KElbowVisualizer"
   ]
  },
  {
   "cell_type": "code",
   "execution_count": null,
   "metadata": {},
   "outputs": [],
   "source": [
    "# Find data on the internet about currently popular songs\n",
    "# Billboard weekly Top 100 of \"hot\" songs\n",
    "\n",
    "def get_billboard_top100():\n",
    "    # Getting the html code of the web page\n",
    "    r = requests.get('https://www.billboard.com/charts/hot-100')\n",
    "\n",
    "    # Parsing the html code\n",
    "    soup = BeautifulSoup(r.content, 'html.parser')\n",
    "\n",
    "    # Find all the chart results rows\n",
    "    chart_entries = soup.find_all('li', class_=\"lrv-u-width-100p\")\n",
    "\n",
    "    # Initialize lists to store the song and artist names\n",
    "    songs = []\n",
    "    artists = []\n",
    "\n",
    "    # Extract song titles\n",
    "    for chart in chart_entries:\n",
    "        song = chart.find('h3')\n",
    "        if song is not None:\n",
    "            songs.append(song.get_text(strip=True))\n",
    "\n",
    "    # Extract artists\n",
    "    for i in range(0, len(chart_entries), 2):\n",
    "        chart = chart_entries[i]\n",
    "        artist = chart.find('span')\n",
    "        artists.append(artist.get_text(strip=True))\n",
    "\n",
    "    # Create a pandas dataframe with the song and artist data\n",
    "    data = {'Song': songs, 'Artist': artists}\n",
    "    df_billboard = pd.DataFrame(data)\n",
    "\n",
    "    return df_billboard"
   ]
  },
  {
   "cell_type": "code",
   "execution_count": null,
   "metadata": {},
   "outputs": [],
   "source": [
    "get_billboard_top100()"
   ]
  },
  {
   "cell_type": "code",
   "execution_count": null,
   "metadata": {},
   "outputs": [],
   "source": [
    "import time\n",
    "\n",
    "# Iterate over the artists and collect all the tracks from the artists\n",
    "for artist_id in artists_ids:\n",
    "    albums = sp.artist_albums(artist_id, album_type='album')\n",
    "    for album in albums['items']:\n",
    "        album_tracks = sp.album_tracks(album['id'])\n",
    "        for album_track in album_tracks['items']:\n",
    "            track_id = album_track['id']\n",
    "            track_name = album_track['name']\n",
    "            artist_name = album_track['artists'][0]['name']\n",
    "            \n",
    "            # Retrieve audio features for the tracks\n",
    "            try:\n",
    "                audio_features = sp.audio_features(track_id)\n",
    "                if audio_features and len(audio_features) > 0:\n",
    "                    features = audio_features[0]\n",
    "                    if features is not None:\n",
    "                        feature_data = {\n",
    "                            'track': track_name,\n",
    "                            'artist': artist_name,\n",
    "                            'track_id': track_id,\n",
    "                            'danceability': features.get('danceability'),\n",
    "                            'energy': features.get('energy'),\n",
    "                            'key': features.get('key'),\n",
    "                            'loudness': features.get('loudness'),\n",
    "                            'mode': features.get('mode'),\n",
    "                            'speechiness': features.get('speechiness'),\n",
    "                            'acousticness': features.get('acousticness'),\n",
    "                            'instrumentalness': features.get('instrumentalness'),\n",
    "                            'liveness': features.get('liveness'),\n",
    "                            'valence': features.get('valence'),\n",
    "                            'tempo': features.get('tempo')\n",
    "                        }\n",
    "                        song_data.append(feature_data)\n",
    "            except Exception as e:\n",
    "                print(f\"Error occurred for track ID: {track_id}\")\n",
    "                print(e)\n",
    "            \n",
    "            # Delay between API requests to avoid timeouts\n",
    "            time.sleep(1)\n",
    "            \n",
    "song_data\n"
   ]
  },
  {
   "cell_type": "code",
   "execution_count": null,
   "metadata": {
    "scrolled": true
   },
   "outputs": [],
   "source": [
    "# Access spotify to get own songs\n",
    "\n",
    "# Initialize SpotiPy with user credentials\n",
    "sp = spotipy.Spotify(auth_manager=SpotifyClientCredentials(client_id=\"4da132f99e99408e8cc66b453044d6ae\",\n",
    "                                                           client_secret=\"a7ef05848d75401dbac7fa820c32cf8b\"))\n",
    "\n",
    "# List to store track features\n",
    "song_data = []\n",
    "\n",
    "# Collect artists ids from the playlist “Top Hits 2023”\n",
    "playlist = sp.user_playlist_tracks(\"spotify\", \"7LHXppjlz4b4snCF8WIx5k\")\n",
    "tracks = playlist['items']\n",
    "    \n",
    "while playlist['next']:\n",
    "    playlist = sp.next(playlist)\n",
    "    tracks.extend(playlist['items'])\n",
    "        \n",
    "artists_ids = [artist_info['id'] for track in tracks for artist_info in track['track']['artists']]\n",
    "artists_ids\n",
    "\n",
    "https://open.spotify.com/playlist/7LHXppjlz4b4snCF8WIx5k?si=f87c22e98153449a"
   ]
  },
  {
   "cell_type": "code",
   "execution_count": null,
   "metadata": {},
   "outputs": [],
   "source": [
    "# Iterate over the artists and collect all the tracks from the artists\n",
    "for artist_id in artists_ids:\n",
    "    albums = sp.artist_albums(artist_id, album_type='album')\n",
    "    for album in albums['items']:\n",
    "        album_tracks = sp.album_tracks(album['id'])\n",
    "        for album_track in album_tracks['items']:\n",
    "            track_id = album_track['id']\n",
    "            track_name = album_track['name']\n",
    "            artist_name = album_track['artists'][0]['name']\n",
    "            \n",
    "            # Retrieve audio features for the tracks\n",
    "            audio_features = sp.audio_features(track_id)\n",
    "            if audio_features and len(audio_features) > 0:\n",
    "                features = audio_features[0]\n",
    "                if features is not None:\n",
    "                    feature_data = {\n",
    "                        'track': track_name,\n",
    "                        'artist': artist_name,\n",
    "                        'track_id': track_id,\n",
    "                        'danceability': features.get('danceability'),\n",
    "                        'energy': features.get('energy'),\n",
    "                        'key': features.get('key'),\n",
    "                        'loudness': features.get('loudness'),\n",
    "                        'mode': features.get('mode'),\n",
    "                        'speechiness': features.get('speechiness'),\n",
    "                        'acousticness': features.get('acousticness'),\n",
    "                        'instrumentalness': features.get('instrumentalness'),\n",
    "                        'liveness': features.get('liveness'),\n",
    "                        'valence': features.get('valence'),\n",
    "                        'tempo': features.get('tempo')\n",
    "                    }\n",
    "                    song_data.append(feature_data)\n",
    "song_data"
   ]
  },
  {
   "cell_type": "code",
   "execution_count": null,
   "metadata": {},
   "outputs": [],
   "source": [
    "# Create a DataFrame from the collected song data\n",
    "df = pd.DataFrame(song_data)\n",
    "df"
   ]
  },
  {
   "cell_type": "code",
   "execution_count": null,
   "metadata": {},
   "outputs": [],
   "source": [
    "# Select the features that we need\n",
    "X = df[['danceability', 'energy', 'key', 'loudness', 'mode', 'speechiness', 'acousticness', 'instrumentalness', 'liveness', 'valence', 'tempo']]\n",
    "\n",
    "# Standarize the data\n",
    "scaler = StandardScaler()\n",
    "X_prep = scaler.fit_transform(X)"
   ]
  },
  {
   "cell_type": "code",
   "execution_count": null,
   "metadata": {},
   "outputs": [],
   "source": [
    "# Choosing best K\n",
    "# Check elbow with YellowBrick\n",
    "\n",
    "# Instantiate the clustering model and visualizer\n",
    "visualizer = KElbowVisualizer(kmeans, k=(2,20))\n",
    "\n",
    "visualizer.fit(X_prep)    # Fit the data to the visualizer\n",
    "visualizer.poof()    # Draw/show/poof the data\n",
    "K = range(2, 20)\n",
    "inertia = []\n",
    "\n",
    "for k in K:\n",
    "    kmeans = KMeans(n_clusters=k, random_state=42)\n",
    "    kmeans.fit(X_prep)\n",
    "    inertia.append(kmeans.inertia_)\n",
    "\n",
    "inertia"
   ]
  },
  {
   "cell_type": "code",
   "execution_count": null,
   "metadata": {},
   "outputs": [],
   "source": [
    "# Train and predict with K=7\n",
    "kmeans = KMeans(n_clusters=7, random_state=42)\n",
    "clusters = kmeans.fit_predict(X_prep)"
   ]
  },
  {
   "cell_type": "code",
   "execution_count": null,
   "metadata": {},
   "outputs": [],
   "source": [
    "# Create new dataframe with title, artist and cluster assigned\n",
    "scaled_df = pd.DataFrame(X_prep, columns=X.columns)\n",
    "scaled_df['track'] = df['track']\n",
    "scaled_df['artist'] = df['artist']\n",
    "scaled_df['cluster'] = clusters\n",
    "scaled_df"
   ]
  },
  {
   "cell_type": "code",
   "execution_count": null,
   "metadata": {},
   "outputs": [],
   "source": [
    "# Toxic - Britney Spears\n",
    "# Yellow Submarine - The Beatles\n",
    "# Stairway to Heaven - Led Zeppelin\n",
    "# Wonderwall - Oasis\n",
    "# It's my life - Bon Jovi\n",
    "# Californication - Red Hot Chilli Peppers\n",
    "# Helena - My Chemical Romance\n",
    "\n",
    "song_name = input('Choose a song: ')\n",
    "\n",
    "# Search for the song in spotipy and get the audio features\n",
    "results = sp.search(q=f'track:{song_name}', limit=1)\n",
    "track_id = results['tracks']['items'][0]['id']\n",
    "audio_features = sp.audio_features(track_id)\n",
    "\n",
    "# Converting it into a dataframe\n",
    "df_ = pd.DataFrame(audio_features)\n",
    "new_features = df_[x.columns]\n",
    "\n",
    "# Scaling the audio features\n",
    "scaled_x = scaler.transform(new_features)\n",
    "\n",
    "# Assign the cluster to the song\n",
    "cluster = kmeans.predict(scaled_x)\n",
    "\n",
    "# Take another close song in the same cluster to recommend\n",
    "filtered_df = scaled_df[scaled_df['cluster'] == cluster[0]][x.columns]\n",
    "closest, _ = pairwise_distances_argmin_min(scaled_x, filtered_df)\n",
    "scaled_df.loc[closest[0]]['song_name'], scaled_df.loc[closest[0]]['artist']"
   ]
  },
  {
   "cell_type": "code",
   "execution_count": null,
   "metadata": {},
   "outputs": [],
   "source": [
    "scaled_df[scaled_df.song_name == 'Love Yourself']"
   ]
  },
  {
   "cell_type": "markdown",
   "metadata": {},
   "source": [
    "#### Next Steps:"
   ]
  },
  {
   "cell_type": "code",
   "execution_count": null,
   "metadata": {},
   "outputs": [],
   "source": [
    "# Put everything inside a function\n",
    "def recommend_song():\n",
    "    # Get song id\n",
    "    song_name = input('Choose a song: ')\n",
    "    results = sp.search(q=f'track:{song_name}', limit=1)\n",
    "    track_id = results['tracks']['items'][0]['id']\n",
    "    \n",
    "    # Get song features with the obtained id\n",
    "    audio_features = sp.audio_features(track_id)\n",
    "    \n",
    "    # Create dataframe\n",
    "    df_ = pd.DataFrame(audio_features)\n",
    "    new_features = df_[x.columns]\n",
    "    \n",
    "    # Scale features\n",
    "    scaled_x = scaler.transform(new_features)\n",
    "    \n",
    "    # Predict cluster\n",
    "    cluster = kmeans.predict(scaled_x)\n",
    "    \n",
    "    # Filter dataset to predicted cluster\n",
    "    filtered_df = scaled_df[scaled_df['cluster'] == cluster[0]][x.columns]\n",
    "    \n",
    "    # Get closest song from filtered dataset\n",
    "    closest, _ = pairwise_distances_argmin_min(scaled_x, filtered_df)\n",
    "    \n",
    "    # Return it in a readable way\n",
    "    print('\\n [RECOMMENDED SONG]')\n",
    "    return ' - '.join([scaled_df.loc[closest]['song_name'].values[0], scaled_df.loc[closest]['artist'].values[0]])"
   ]
  },
  {
   "cell_type": "code",
   "execution_count": null,
   "metadata": {},
   "outputs": [],
   "source": [
    "recommend_song()"
   ]
  },
  {
   "cell_type": "code",
   "execution_count": null,
   "metadata": {},
   "outputs": [],
   "source": [
    "### --> SUGGESTIONS: Error handling, but it is a MVP!..."
   ]
  }
 ],
 "metadata": {
  "kernelspec": {
   "display_name": "Python 3 (ipykernel)",
   "language": "python",
   "name": "python3"
  },
  "language_info": {
   "codemirror_mode": {
    "name": "ipython",
    "version": 3
   },
   "file_extension": ".py",
   "mimetype": "text/x-python",
   "name": "python",
   "nbconvert_exporter": "python",
   "pygments_lexer": "ipython3",
   "version": "3.9.13"
  }
 },
 "nbformat": 4,
 "nbformat_minor": 4
}
